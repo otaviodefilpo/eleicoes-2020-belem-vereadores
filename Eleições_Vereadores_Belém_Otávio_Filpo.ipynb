{
  "nbformat": 4,
  "nbformat_minor": 0,
  "metadata": {
    "colab": {
      "name": "Eleições Vereadores Belém - Otávio Filpo.ipynb",
      "provenance": [],
      "authorship_tag": "ABX9TyO5Q5FzZwT+GheYlaS2BItT",
      "include_colab_link": true
    },
    "kernelspec": {
      "name": "python3",
      "display_name": "Python 3"
    },
    "language_info": {
      "name": "python"
    }
  },
  "cells": [
    {
      "cell_type": "markdown",
      "metadata": {
        "id": "view-in-github",
        "colab_type": "text"
      },
      "source": [
        "<a href=\"https://colab.research.google.com/github/otaviodefilpo/eleicoes-2020-belem-vereadores/blob/main/Elei%C3%A7%C3%B5es_Vereadores_Bel%C3%A9m_Ot%C3%A1vio_Filpo.ipynb\" target=\"_parent\"><img src=\"https://colab.research.google.com/assets/colab-badge.svg\" alt=\"Open In Colab\"/></a>"
      ]
    },
    {
      "cell_type": "code",
      "execution_count": null,
      "metadata": {
        "id": "mZM4xvLdohyA"
      },
      "outputs": [],
      "source": [
        ""
      ]
    }
  ]
}